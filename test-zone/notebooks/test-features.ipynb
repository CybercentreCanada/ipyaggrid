{
 "cells": [
  {
   "cell_type": "markdown",
   "metadata": {},
   "source": [
    "# Using ag-grid interactively in a jupyter notebook"
   ]
  },
  {
   "cell_type": "markdown",
   "metadata": {},
   "source": [
    "This notebook features a jupyter widget enabling easy interaction with the very complex ag-grid library.\n",
    "All the features of this lib are described on [ag-grid main documentation page](https://www.ag-grid.com/documentation-main/documentation.php).\n",
    "You may see some features in this notebook, but we advise you to look at that doc for more complex information and features."
   ]
  },
  {
   "cell_type": "markdown",
   "metadata": {},
   "source": [
    "## Multioptions"
   ]
  },
  {
   "cell_type": "code",
   "execution_count": 1,
   "metadata": {},
   "outputs": [],
   "source": [
    "import ipywidgets as widgets\n",
    "from ipyaggrid import Grid\n",
    "from ipyaggrid import get_license\n",
    "from copy import deepcopy as copy\n",
    "import os\n",
    "import numpy as np\n",
    "import pandas as pd"
   ]
  },
  {
   "cell_type": "code",
   "execution_count": 2,
   "metadata": {},
   "outputs": [],
   "source": [
    "def mklbl(prefix, n):\n",
    "    return [\"%s%s\" % (prefix, i) for i in range(n)]\n",
    "\n",
    "miindex = pd.MultiIndex.from_product([mklbl('A', 4),\n",
    "                                      mklbl('B', 2),\n",
    "                                      mklbl('C', 4),\n",
    "                                      mklbl('D', 2)],\n",
    "                                    names=['RowIdx-1', 'RowIdx-2', 'RowIdx-3', 'RowIdx-4'])\n",
    "index  =['-'.join(col).strip() for col in miindex.values]\n",
    "micolumns = pd.MultiIndex.from_tuples([('a', 'foo', 'zap'),\n",
    "                                       ('a', 'foo', 'zip'),\n",
    "                                       ('a', 'bar', 'zap'),\n",
    "                                       ('a', 'bar', 'zip'),\n",
    "                                       ('b', 'foo', 'zap'),\n",
    "                                       ('b', 'foo', 'zep'),\n",
    "                                       ('b', 'bah', 'zep'),\n",
    "                                       ('b', 'bah', 'zyp'),\n",
    "                                       ('b', 'bah', 'zap'),\n",
    "                                      ],\n",
    "                                      names=['ColIdx-{}'.format(i) for i in range(1, 4)])\n",
    "cols  =['-'.join(col).strip() for col in micolumns.values]\n",
    "data = np.arange(len(miindex) * len(micolumns), dtype=np.float).reshape((len(miindex),len(micolumns)))\n",
    "data = data.tolist()\n",
    "\n",
    "\n",
    "dfrc = pd.DataFrame(data, index=miindex, columns=micolumns).sort_index().sort_index(axis=1)\n",
    "\n",
    "dfr  = pd.DataFrame(data, index=miindex, columns=cols).sort_index().sort_index(axis=1)\n",
    "dfr.columns.name = 'UniqueCol'\n",
    "\n",
    "dfc  = pd.DataFrame(data, index=index, columns=micolumns).sort_index().sort_index(axis=1)\n",
    "dfc.index.name = 'UniqueRow'\n",
    "\n",
    "df  = pd.DataFrame(data, index=index, columns=cols).sort_index()\n",
    "df.index.name = 'UniqueRow'\n",
    "df.columns.name = 'UniqueCol'"
   ]
  },
  {
   "cell_type": "code",
   "execution_count": 3,
   "metadata": {
    "scrolled": false
   },
   "outputs": [
    {
     "data": {
      "application/vnd.jupyter.widget-view+json": {
       "model_id": "779668d95c7d49c8a2a22ae17bc2865e",
       "version_major": 2,
       "version_minor": 0
      },
      "text/plain": [
       "Grid(columns_fit='size_to_fit', compress_data=True, css_rules_down=['.number-cell {text-align: left;}', '.nb-e…"
      ]
     },
     "metadata": {},
     "output_type": "display_data"
    }
   ],
   "source": [
    "css_rules = \"\"\"\n",
    ".number-cell {\n",
    "    text-align: left;\n",
    "}\n",
    ".nb-even {\n",
    "    color: red;\n",
    "}\n",
    ".nb-odd {\n",
    "    color: blue;\n",
    "}\n",
    "\"\"\"\n",
    "\n",
    "ccf = \"function(params) { return params.value % 2 == 0 ? 'nb-even' : 'nb-odd'; }\"\n",
    "column_defs_1 = [{'field': df.index.name}] + [{'field': c, 'cellClass': ccf} for c in df.columns[:5]]\n",
    "\n",
    "ccf = None\n",
    "column_defs_2 = [{'field': df.index.name}] + [{'field': c} for c in df.columns[:5]]\n",
    "\n",
    "grid_options = {\n",
    "    'columnDefs' : column_defs_1,\n",
    "    'enableSorting': 'true',\n",
    "    'enableFilter': 'true',\n",
    "    'enableColResize': 'false',\n",
    "    'enableRangeSelection': True,\n",
    "}\n",
    "\n",
    "grid_options_2 = {\n",
    "    'columnDefs' : column_defs_2,\n",
    "    'enableSorting': 'false',\n",
    "    'enableFilter': 'false',\n",
    "    'enableColResize': 'true',\n",
    "    'enableRangeSelection':True,\n",
    "}\n",
    "\n",
    "ag = Grid(grid_data=df,\n",
    "            #grid_options=grid_options_2,\n",
    "            grid_options_multi=[('opt1', grid_options), ('opt2', grid_options_2)],\n",
    "            css_rules=css_rules,\n",
    "            quick_filter=False,\n",
    "            export_csv=True,\n",
    "            show_toggle_edit=True,\n",
    "            paste_from_excel=True,\n",
    "            export_excel=False,\n",
    "            export_mode=\"buttons\",\n",
    "            index=True,\n",
    "            theme='ag-theme-balham',\n",
    "            license=get_license())\n",
    "ag"
   ]
  },
  {
   "cell_type": "code",
   "execution_count": 4,
   "metadata": {},
   "outputs": [
    {
     "ename": "KeyError",
     "evalue": "'cols'",
     "output_type": "error",
     "traceback": [
      "\u001b[0;31m---------------------------------------------------------------------------\u001b[0m",
      "\u001b[0;31mKeyError\u001b[0m                                  Traceback (most recent call last)",
      "\u001b[0;32m<ipython-input-4-9c08cfcc2f0b>\u001b[0m in \u001b[0;36m<module>\u001b[0;34m()\u001b[0m\n\u001b[0;32m----> 1\u001b[0;31m \u001b[0mag\u001b[0m\u001b[0;34m.\u001b[0m\u001b[0mgrid_data_out\u001b[0m\u001b[0;34m[\u001b[0m\u001b[0;34m'cols'\u001b[0m\u001b[0;34m]\u001b[0m\u001b[0;34m\u001b[0m\u001b[0m\n\u001b[0m",
      "\u001b[0;31mKeyError\u001b[0m: 'cols'"
     ]
    }
   ],
   "source": [
    "ag.grid_data_out['cols']"
   ]
  },
  {
   "cell_type": "markdown",
   "metadata": {},
   "source": [
    "# Quickfilter"
   ]
  },
  {
   "cell_type": "code",
   "execution_count": null,
   "metadata": {},
   "outputs": [],
   "source": [
    "css_rules=\"\"\"\n",
    ".gridDiv\"\"\"\n",
    "\n",
    "rowDat = [\n",
    "            { 'make': 'Toyota', 'model': 'Celica', 'price': 35000 },\n",
    "            { 'make': 'Ford', 'model': 'Mondeo', 'price': 32000 },\n",
    "            { 'make': 'Porsche', 'model': 'Boxter', 'price': 72000 },\n",
    "            { 'make': 'Porsche2', 'model': 'Boxter', 'price': 72000 },\n",
    "            { 'make': 'Porsche4', 'model': 'Boxter', 'price': 72000 },\n",
    "            { 'make': 'Porsche45', 'model': 'Boxter', 'price': 72000 },\n",
    "            { 'make': 'Porsche56', 'model': 'Boxter', 'price': 72000 },\n",
    "            { 'make': 'Porsche1', 'model': 'Boxter', 'price': 72000 },\n",
    "            { 'make': 'Porsche43', 'model': 'Boxter', 'price': 72000 },\n",
    "            { 'make': 'Porsche', 'model': 'Boxter', 'price': 73000 },\n",
    "            { 'make': 'Porsche', 'model': 'Boxter', 'price': 72000 },\n",
    "        ]\n",
    "\n",
    "columnDef = [\n",
    "            { 'headerName': 'Make', 'field': 'make'},\n",
    "            { 'headerName': 'Model', 'field': 'model' },\n",
    "            { 'headerName': 'Price', 'field': 'price'},\n",
    "        ]\n",
    "\n",
    "gridOptions = {'columnDefs': columnDef,\n",
    "               'enableFilter': 'true',\n",
    "               'defaultColDef': {\n",
    "                    'editable': 'true'\n",
    "               },\n",
    "               'enableRangeSelection': True,\n",
    "               'enableSorting': 'true',\n",
    "               'quickFilterText': 'true',}\n",
    "\n",
    "a = Grid(grid_options = gridOptions,\n",
    "         grid_data = rowDat,\n",
    "         \n",
    "         license = get_license(),\n",
    "         export_mode=\"buttons\",\n",
    "         show_toggle_delete=True,\n",
    "         paste_from_excel=True,\n",
    "         columns_fit=\"auto\",export_csv=True, export_excel=True)"
   ]
  },
  {
   "cell_type": "code",
   "execution_count": null,
   "metadata": {
    "scrolled": false
   },
   "outputs": [],
   "source": [
    "a"
   ]
  },
  {
   "cell_type": "code",
   "execution_count": null,
   "metadata": {},
   "outputs": [],
   "source": [
    "a.grid_data_out['cols']"
   ]
  },
  {
   "cell_type": "markdown",
   "metadata": {},
   "source": [
    "## Using custom JS functions"
   ]
  },
  {
   "cell_type": "code",
   "execution_count": 6,
   "metadata": {},
   "outputs": [],
   "source": [
    "import urllib.request, json \n",
    "with urllib.request.urlopen(\"https://raw.githubusercontent.com/ag-grid/ag-grid-docs/master/src/olympicWinners.json\") as url:\n",
    "    data = json.loads(url.read().decode())"
   ]
  },
  {
   "cell_type": "code",
   "execution_count": 7,
   "metadata": {
    "scrolled": false
   },
   "outputs": [],
   "source": [
    "columnDefs = [\n",
    "    {'headerName': \"Country\", 'field': \"country\", 'width': 120, 'rowGroup': 'true'},\n",
    "    {'headerName': \"Year\", 'field': \"year\", 'width': 90, 'pivot': 'true'},\n",
    "    {'headerName': \"Sport\", 'field': \"sport\", 'width': 110, 'rowGroup': 'true'},\n",
    "    {'headerName': \"Athlete\", 'field': \"athlete\"},\n",
    "    {\n",
    "        'headerName':'Results',\n",
    "        'children':[\n",
    "            {'headerName': \"Gold\", 'field': \"gold\", 'width': 100, 'aggFunc': 'sum'},\n",
    "            {'headerName': \"Silver\", 'field': \"silver\", 'width': 100, 'aggFunc': 'sum'},\n",
    "            {'headerName': \"Bronze\", 'field': \"bronze\", 'width': 100, 'aggFunc': 'sum'},\n",
    "        ]\n",
    "    }\n",
    "];\n",
    "\n",
    "gridOptions = {\n",
    "    'pivotMode': 'true',\n",
    "    'enableColResize': 'true',\n",
    "    'columnDefs': columnDefs,\n",
    "    'enableRangeSelection':True,\n",
    "    'enableFilter':'true',\n",
    "    'defaultColDef':{\n",
    "        'enableRowGroup':True,\n",
    "    },\n",
    "    'enableSorting':'true',\n",
    "    'animateRows':'true',\n",
    "};\n",
    "\n",
    "buttons = [{'name':'Log Toto', 'action':'console.log(\"toto\");'},\n",
    "           {'name':'Log Titi', 'action':'console.log(\"titi\");'}]\n",
    "\n",
    "pivot = Grid(export_mode='buttons',\n",
    "             export_csv=True,\n",
    "             export_excel=True,\n",
    "             quick_filter=True,\n",
    "             theme='ag-theme-balham',\n",
    "             compress_data=True,\n",
    "             license=get_license(),\n",
    "             grid_options=gridOptions,\n",
    "             grid_data=data,\n",
    "             menu={'buttons':buttons},\n",
    "             columns_fit=\"auto\",\n",
    "             user_params={'slider_value':50},\n",
    "             paste_from_excel=True,\n",
    "            hide_grid=False, show_toggle_delete=True)\n",
    "\n",
    "# Setting a simple slider to coordinate its value with the highlight button\n",
    "slider = widgets.IntSlider(\n",
    "    value=50,\n",
    "    min=0,\n",
    "    max=100,\n",
    "    step=1,\n",
    "    description='Test:',\n",
    "    disabled=False,\n",
    "    continuous_update=False,\n",
    "    orientation='horizontal',\n",
    "    readout=True,\n",
    "    readout_format='d'\n",
    ")\n",
    "\n",
    "def on_slider_change(change):\n",
    "    pivot.user_params = {'slider_value': change.new}\n",
    "\n",
    "slider.observe(on_slider_change, names='value')"
   ]
  },
  {
   "cell_type": "code",
   "execution_count": 8,
   "metadata": {},
   "outputs": [
    {
     "data": {
      "application/vnd.jupyter.widget-view+json": {
       "model_id": "b433949d92fe4cf2ba9d60f58cff6555",
       "version_major": 2,
       "version_minor": 0
      },
      "text/plain": [
       "IntSlider(value=50, continuous_update=False, description='Test:')"
      ]
     },
     "metadata": {},
     "output_type": "display_data"
    }
   ],
   "source": [
    "slider"
   ]
  },
  {
   "cell_type": "code",
   "execution_count": 9,
   "metadata": {},
   "outputs": [
    {
     "data": {
      "application/vnd.jupyter.widget-view+json": {
       "model_id": "0848a0b490ec46d1bfab0c2fc6c24b32",
       "version_major": 2,
       "version_minor": 0
      },
      "text/plain": [
       "Grid(columns_fit='auto', compress_data=True, export_mode='buttons', height='350px', license='U0hJX0ludGVybmF0a…"
      ]
     },
     "metadata": {},
     "output_type": "display_data"
    }
   ],
   "source": [
    "pivot"
   ]
  },
  {
   "cell_type": "code",
   "execution_count": 10,
   "metadata": {
    "scrolled": true
   },
   "outputs": [
    {
     "ename": "KeyError",
     "evalue": "'grid'",
     "output_type": "error",
     "traceback": [
      "\u001b[0;31m---------------------------------------------------------------------------\u001b[0m",
      "\u001b[0;31mKeyError\u001b[0m                                  Traceback (most recent call last)",
      "\u001b[0;32m<ipython-input-10-f4a13b4ffb8b>\u001b[0m in \u001b[0;36m<module>\u001b[0;34m()\u001b[0m\n\u001b[0;32m----> 1\u001b[0;31m \u001b[0mpivot\u001b[0m\u001b[0;34m.\u001b[0m\u001b[0mgrid_data_out\u001b[0m\u001b[0;34m[\u001b[0m\u001b[0;34m'grid'\u001b[0m\u001b[0;34m]\u001b[0m\u001b[0;34m\u001b[0m\u001b[0m\n\u001b[0m",
      "\u001b[0;31mKeyError\u001b[0m: 'grid'"
     ]
    }
   ],
   "source": [
    "pivot.grid_data_out['grid']"
   ]
  },
  {
   "cell_type": "markdown",
   "metadata": {},
   "source": [
    "## More tests"
   ]
  },
  {
   "cell_type": "code",
   "execution_count": 26,
   "metadata": {},
   "outputs": [],
   "source": [
    "columnDefs = [\n",
    "    {'headerName': \"Country\", 'field': \"country\", 'rowGroup':True, 'hide':True},\n",
    "    {'headerName': \"Sport\", 'field': \"sport\", 'rowGroup':True, 'hide':True},\n",
    "    {\n",
    "        'headerName': \"Results\",\n",
    "        'children': [\n",
    "            {'headerName': \"Total\", 'field': 'total', 'columnGroupShow': 'closed', 'aggFunc':'sum'},\n",
    "            {'headerName': \"Gold\", 'field': 'gold', 'columnGroupShow': 'open', 'aggFunc':'sum'},\n",
    "            {'headerName': \"Silver\", 'field': 'silver', 'columnGroupShow': 'open', 'aggFunc':'sum'},\n",
    "            {'headerName': \"Bronze\", 'field': 'bronze', 'columnGroupShow': 'open', 'aggFunc':'sum'}\n",
    "        ]\n",
    "    },\n",
    "]\n",
    "\n",
    "\n",
    "grid_options = {\n",
    "    'columnDefs': columnDefs,\n",
    "    'enableFilter': True,\n",
    "    'enableSorting':True,\n",
    "}\n",
    "\n",
    "grid = Grid(grid_data = data,\n",
    "            grid_options=grid_options, \n",
    "            export_mode=\"buttons\",\n",
    "            theme='ag-theme-balham')"
   ]
  },
  {
   "cell_type": "code",
   "execution_count": 27,
   "metadata": {
    "scrolled": false
   },
   "outputs": [
    {
     "data": {
      "application/vnd.jupyter.widget-view+json": {
       "model_id": "4e848065b12247e58dc66c6860504ff7",
       "version_major": 2,
       "version_minor": 0
      },
      "text/plain": [
       "Grid(columns_fit='size_to_fit', compress_data=True, export_mode='buttons', height='350px', menu={'buttons': [{…"
      ]
     },
     "metadata": {},
     "output_type": "display_data"
    }
   ],
   "source": [
    "grid"
   ]
  },
  {
   "cell_type": "code",
   "execution_count": 13,
   "metadata": {},
   "outputs": [],
   "source": [
    "grid.export_to_df = False"
   ]
  },
  {
   "cell_type": "code",
   "execution_count": 14,
   "metadata": {},
   "outputs": [
    {
     "data": {
      "text/plain": [
       "{'counter': 2, 'cols':       Athlete Details                \n",
       "                    ID                \n",
       "                   age         country\n",
       " Index                                \n",
       " 0                23.0   United States\n",
       " 1                19.0   United States\n",
       " 2                27.0   United States\n",
       " 3                25.0   United States\n",
       " 4                24.0          Russia\n",
       " 5                24.0       Australia\n",
       " 6                17.0   United States\n",
       " 7                27.0   United States\n",
       " 8                22.0   United States\n",
       " 9                21.0   United States\n",
       " 10               17.0       Australia\n",
       " 11               33.0   United States\n",
       " 12               26.0          Canada\n",
       " 13               18.0   United States\n",
       " 14               29.0          Norway\n",
       " 15               20.0           China\n",
       " 16               24.0        Zimbabwe\n",
       " 17               23.0       Australia\n",
       " 18               24.0   United States\n",
       " 19               30.0     Netherlands\n",
       " 20               28.0       Australia\n",
       " 21               21.0       Australia\n",
       " 22               27.0     Netherlands\n",
       " 23               25.0   United States\n",
       " 24               23.0       Australia\n",
       " 25               27.0       Australia\n",
       " 26               27.0   United States\n",
       " 27               22.0     Netherlands\n",
       " 28               20.0     South Korea\n",
       " 29               17.0          Russia\n",
       " ...               ...             ...\n",
       " 8588             19.0     South Korea\n",
       " 8589             28.0     South Korea\n",
       " 8590             26.0           China\n",
       " 8591             19.0  Chinese Taipei\n",
       " 8592             28.0     South Korea\n",
       " 8593             23.0         Ukraine\n",
       " 8594             26.0         Ukraine\n",
       " 8595             17.0  Chinese Taipei\n",
       " 8596             32.0   Great Britain\n",
       " 8597             21.0  Chinese Taipei\n",
       " 8598             41.0           Japan\n",
       " 8599             19.0  Chinese Taipei\n",
       " 8600             21.0     South Korea\n",
       " 8601             23.0           China\n",
       " 8602             24.0           Italy\n",
       " 8603             26.0         Ukraine\n",
       " 8604             43.0           Italy\n",
       " 8605             30.0       Australia\n",
       " 8606             24.0           Italy\n",
       " 8607             24.0     South Korea\n",
       " 8608             45.0   United States\n",
       " 8609             20.0     South Korea\n",
       " 8610             39.0         Germany\n",
       " 8611             28.0     South Korea\n",
       " 8612             29.0         Germany\n",
       " 8613             32.0         Ukraine\n",
       " 8614             17.0         Ukraine\n",
       " 8615             21.0     Netherlands\n",
       " 8616             31.0         Germany\n",
       " 8617             23.0   United States\n",
       " \n",
       " [8618 rows x 2 columns], 'rows': [{('Athlete Details',\n",
       "    'ID',\n",
       "    'athlete'): 'Michael Phelps',\n",
       "   ('Athlete Details', 'ID', 'age'): 19,\n",
       "   ('Athlete Details', 'ID', 'country'): 'United States',\n",
       "   ('Results', '', 'sport'): 'Swimming',\n",
       "   ('Results', '', 'total'): 8},\n",
       "  {('Athlete Details', 'ID', 'athlete'): 'Michael Phelps',\n",
       "   ('Athlete Details', 'ID', 'age'): 27,\n",
       "   ('Athlete Details', 'ID', 'country'): 'United States',\n",
       "   ('Results', '', 'sport'): 'Swimming',\n",
       "   ('Results', '', 'total'): 6}]}"
      ]
     },
     "execution_count": 14,
     "metadata": {},
     "output_type": "execute_result"
    }
   ],
   "source": [
    "grid.grid_data_out"
   ]
  },
  {
   "cell_type": "code",
   "execution_count": null,
   "metadata": {},
   "outputs": [],
   "source": []
  },
  {
   "cell_type": "code",
   "execution_count": null,
   "metadata": {},
   "outputs": [],
   "source": []
  },
  {
   "cell_type": "code",
   "execution_count": null,
   "metadata": {},
   "outputs": [],
   "source": []
  }
 ],
 "metadata": {
  "kernelspec": {
   "display_name": "ipyaggrid",
   "language": "python",
   "name": "aggrid"
  },
  "language_info": {
   "codemirror_mode": {
    "name": "ipython",
    "version": 3
   },
   "file_extension": ".py",
   "mimetype": "text/x-python",
   "name": "python",
   "nbconvert_exporter": "python",
   "pygments_lexer": "ipython3",
   "version": "3.6.5"
  }
 },
 "nbformat": 4,
 "nbformat_minor": 2
}
